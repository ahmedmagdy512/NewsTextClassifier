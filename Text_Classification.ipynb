{
 "cells": [
  {
   "cell_type": "code",
   "execution_count": 1,
   "metadata": {},
   "outputs": [],
   "source": [
    "import tensorflow as tf\n",
    "import numpy as np\n",
    "from nltk.corpus import stopwords\n",
    "from tensorflow.keras.preprocessing.text import Tokenizer\n",
    "from tensorflow.keras.preprocessing.sequence import pad_sequences\n",
    "from tensorflow.keras.models import Sequential\n",
    "from tensorflow.keras.layers import Embedding,Dense ,Flatten,LSTM,Bidirectional,Dropout\n",
    "import pandas as pd\n",
    "import re"
   ]
  },
  {
   "cell_type": "code",
   "execution_count": 2,
   "metadata": {},
   "outputs": [],
   "source": [
    "def clean_text(text):\n",
    "    Stopwords = stopwords.words('english')\n",
    "    text = re.sub('\\d','',text)\n",
    "    text = re.sub('\\W',' ',text)\n",
    "    text = re.sub('\\s+',' ',text)\n",
    "    words = [word for word in text.split() if word not in Stopwords]\n",
    "    return ' '.join(words)\n"
   ]
  },
  {
   "cell_type": "code",
   "execution_count": 3,
   "metadata": {},
   "outputs": [
    {
     "name": "stdout",
     "output_type": "stream",
     "text": [
      "['tv future hands viewers home theatre systems plasma high definition tvs digital video recorders moving living room way people watch tv radically different five years time according expert panel gathered annual consumer electronics show las vegas discuss new technologies impact one favourite pastimes us leading trend programmes content delivered viewers via home networks cable satellite telecoms companies broadband service providers front rooms portable devices one talked technologies ces digital personal video recorders dvr pvr set top boxes like us tivo uk sky system allow people record store play pause forward wind tv programmes want essentially technology allows much personalised tv also built high definition tv sets big business japan us slower take europe lack high definition programming people forward wind adverts also forget abiding network channel schedules putting together la carte entertainment us networks cable satellite companies worried means terms advertising revenues well brand identity viewer loyalty channels although us leads technology moment also concern raised europe particularly growing uptake services like sky happens today see nine months years time uk adam hume bbc broadcast futurologist told bbc news website likes bbc issues lost advertising revenue yet pressing issue moment commercial uk broadcasters brand loyalty important everyone talking content brands rather network brands said tim hanlon brand communications firm starcom mediavest reality broadband connections anybody producer content added challenge hard promote programme much choice means said stacey jolna senior vice president tv guide tv group way people find content want watch simplified tv viewers means networks us terms channels could take leaf google book search engine future instead scheduler help people find want watch kind channel model might work younger ipod generation used taking control gadgets play might suit everyone panel recognised older generations comfortable familiar schedules channel brands know getting perhaps want much choice put hands mr hanlon suggested end kids diapers pushing buttons already everything possible available said mr hanlon ultimately consumer tell market want new gadgets technologies showcased ces many enhancing tv watching experience high definition tv sets everywhere many new models lcd liquid crystal display tvs launched dvr capability built instead external boxes one example launched show humax inch lcd tv hour tivo dvr dvd recorder one us biggest satellite tv companies directtv even launched branded dvr show hours recording capability instant replay search function set pause rewind tv hours microsoft chief bill gates announced pre show keynote speech partnership tivo called tivotogo means people play recorded programmes windows pcs mobile devices reflect increasing trend freeing multimedia people watch want want', 'worldcom boss left books alone former worldcom boss bernie ebbers accused overseeing bn bn fraud never made accounting decisions witness told jurors david myers made comments questioning defence lawyers arguing mr ebbers responsible worldcom problems phone company collapsed prosecutors claim losses hidden protect firm shares mr myers already pleaded guilty fraud assisting prosecutors monday defence lawyer reid weingarten tried distance client allegations cross examination asked mr myers ever knew mr ebbers make accounting decision aware mr myers replied ever know mr ebbers make accounting entry worldcom books mr weingarten pressed replied witness mr myers admitted ordered false accounting entries request former worldcom chief financial officer scott sullivan defence lawyers trying paint mr sullivan admitted fraud testify later trial mastermind behind worldcom accounting house cards mr ebbers team meanwhile looking portray affable boss admission pe graduate economist whatever abilities mr ebbers transformed worldcom relative unknown bn telecoms giant investor darling late worldcom problems mounted however competition increased telecoms boom petered firm finally collapsed shareholders lost bn workers lost jobs mr ebbers trial expected last two months found guilty former ceo faces substantial jail sentence firmly declared innocence']\n",
      "['tech', 'business']\n",
      "27768\n"
     ]
    }
   ],
   "source": [
    "data = pd.read_csv('bbc-text.csv')\n",
    "articles = list(data['text'])\n",
    "labels = list(data['category'])\n",
    "cleaned_articles=[]\n",
    "for i in range(len(articles)):\n",
    "    cleaned_articles.append(clean_text(articles[i]))\n",
    "whole_text = ' '.join(cleaned_articles).split()\n",
    "unique_words = list(set(whole_text))\n",
    "print(cleaned_articles[:2])\n",
    "print(labels[:2])\n",
    "print(len(unique_words))"
   ]
  },
  {
   "cell_type": "code",
   "execution_count": 5,
   "metadata": {},
   "outputs": [
    {
     "name": "stdout",
     "output_type": "stream",
     "text": [
      "[[  82  154 1093 1154   46 1059  690 4966   73 1013 4061  128  161 3926\n",
      "  1274 1242 1510   40    7  891   82    1  300   79   19   14  121 2970\n",
      "  1261 2385  539  388 1208   62 2814 2895 1663    8  840  703   10  894\n",
      "     1    9  609 1494  993  384 1895 1154  726   46  465 1417 2002 1563\n",
      "   116  304  106 2601  764 4967 1027  568   10 4201  840 2442  128  323\n",
      "   161 3926    1    1   37   61 3056   26    9    1   18 1323  126  420\n",
      "     7  119 1324   70 4378  453 4968   82  993   75    1   71 2003   53\n",
      "     1   82    6 1060   73 1013   82 1867  129  139  389    9 2734   39\n",
      "   130 1155   73 1013 4202    7  453 4968 2971    6 2550    1  381 1036\n",
      "     1 1302  574 1969    1  704    9  465 1417 2002  116 1818  379  841\n",
      "  1970 1531   36 1724 2443 4762    1 2386  226    9 2495   71  765    6\n",
      "  1028 1070  130  745  540    1  117   26 1323 1725  412   77  895  101\n",
      "    19   14   18 3230    1   35 1377    1   23   35   85  333 2272   35\n",
      "   431  218 1970 1303  312    1  297  765 1071   18 2496 1724    1  269\n",
      "   684 1111  384 1934  370  381 1934    2 1243    1 1724 1757   59    1\n",
      "     1 1701  304 1726 3231 1136  384   41  803  245 2815  336   53  533\n",
      "   379    2    1    1  624 1244  182   82 3797   82   90   40    7  324\n",
      "   384   75  891    1   82 1154  379  465    9  841 2386   11   39    1\n",
      "   797  508  372 1758  154  534    1  122    7  324   75  891 1137 1036\n",
      "  1418  338   57 1935 1195  734   80  237  271  971   70  338 2444  684\n",
      "  1261 2179 1578    1 3659 3057    1 1036 1934  162  365 1473   75   53\n",
      "   533   98 1093    3    1  915   86 3058    1 2225    1   97  717  402\n",
      "   407    2    3    1 2497  388 1419   42   75    8  971  840    1 2442\n",
      "    31 4062   82 1631  798   73 1013   82 1867    1   31    8 1434    1\n",
      "     1 3927 1391 4061  602    1 3660 1060  534 3928 3056   10  854  602\n",
      "    62    1    1    1   82  950    1    1  548 3929   10    9  223 2002\n",
      "    82  116    1   91  602 2896    1   62  661 2344 3660 4969 3343  372\n",
      "  4570   37 4378    1   82  661  268  105  260 2664  315  610   62 3798\n",
      "   710 3554    1  142    1  379    7   70]\n",
      " [1532  569  227 1550 1341  110 1532  569    1 1564  615    1   21   21\n",
      "   705  266   28 2044 1209 4203   23    1  305    1   28  753 4063  804\n",
      "  1780 3661    3 1564 1357 1532  353  145   45 4064 2142  562 1759 2897\n",
      "  1138   59  270    3    1   97 2665 1112  705    1 2142  421  804 1495\n",
      "  4763    1 1196 2315 3344 1685  831    1  424    3    1  343 1392    3\n",
      "  1564   22 2044  175 1496    3    1 3662  343  162    3 1564   22 2044\n",
      "  1781 1532 1550    3    1    1 3662 4203    3    1  711 2387 1971 2044\n",
      "  3930 3232  110 1532  105  289 1511 1600 1245  804 1780  460    1    3\n",
      "  1245  711  705    1  235  520    1  344 1532 2044  258  625    3 1564\n",
      "   134  685  291    1    1  569    1    1    1 1358 2180    1    3 1564\n",
      "     1 1532    1 4379   21 1563  578 3451    1  529 1532  353    1   87\n",
      "   466  847 1563 2666    1   59 1533 4064 1079  218   21  712  218  373\n",
      "     3 1564  520   88   12   15  101  183 1112  110    1 1094 2816 1868\n",
      "  2004 4571 2273    1    0    0    0    0    0    0    0    0    0    0\n",
      "     0    0    0    0    0    0    0    0    0    0    0    0    0    0\n",
      "     0    0    0    0    0    0    0    0    0    0    0    0    0    0\n",
      "     0    0    0    0    0    0    0    0    0    0    0    0    0    0\n",
      "     0    0    0    0    0    0    0    0    0    0    0    0    0    0\n",
      "     0    0    0    0    0    0    0    0    0    0    0    0    0    0\n",
      "     0    0    0    0    0    0    0    0    0    0    0    0    0    0\n",
      "     0    0    0    0    0    0    0    0    0    0    0    0    0    0\n",
      "     0    0    0    0    0    0    0    0    0    0    0    0    0    0\n",
      "     0    0    0    0    0    0    0    0    0    0    0    0    0    0\n",
      "     0    0    0    0    0    0    0    0    0    0    0    0    0    0\n",
      "     0    0    0    0    0    0    0    0    0    0    0    0    0    0\n",
      "     0    0    0    0    0    0    0    0    0    0    0    0    0    0\n",
      "     0    0    0    0    0    0    0    0    0    0    0    0    0    0\n",
      "     0    0    0    0    0    0    0    0    0    0    0    0    0    0\n",
      "     0    0    0    0    0    0    0    0]]\n"
     ]
    }
   ],
   "source": [
    "vocab_size=5000\n",
    "max_length = 400\n",
    "embedding_dim = 64\n",
    "trunc_type = 'post'\n",
    "padding_type = 'post'\n",
    "tk = Tokenizer(num_words = vocab_size,oov_token='<OOV>')\n",
    "tk.fit_on_texts(cleaned_articles)\n",
    "word_index = tk.word_index\n",
    "X = tk.texts_to_sequences(cleaned_articles)\n",
    "X = pad_sequences(X, maxlen=max_length, padding=padding_type, truncating=trunc_type)\n",
    "\n",
    "print(X[:2])"
   ]
  },
  {
   "cell_type": "code",
   "execution_count": 6,
   "metadata": {},
   "outputs": [
    {
     "name": "stdout",
     "output_type": "stream",
     "text": [
      "[[4]\n",
      " [2]]\n"
     ]
    },
    {
     "name": "stderr",
     "output_type": "stream",
     "text": [
      "Using TensorFlow backend.\n"
     ]
    }
   ],
   "source": [
    "from sklearn.model_selection import train_test_split\n",
    "from keras.utils import to_categorical\n",
    "\n",
    "label_tokenizer = Tokenizer()\n",
    "label_tokenizer.fit_on_texts(labels)\n",
    "\n",
    "\n",
    "y = np.array(label_tokenizer.texts_to_sequences(labels))\n",
    "\n",
    "print(y[:2])"
   ]
  },
  {
   "cell_type": "code",
   "execution_count": 7,
   "metadata": {},
   "outputs": [],
   "source": [
    "X_train,X_test,y_train,y_test = train_test_split(X,y,test_size=0.25)"
   ]
  },
  {
   "cell_type": "code",
   "execution_count": 8,
   "metadata": {},
   "outputs": [
    {
     "name": "stdout",
     "output_type": "stream",
     "text": [
      "WARNING:tensorflow:From C:\\Users\\Ahmad\\Anaconda3\\lib\\site-packages\\tensorflow\\python\\keras\\initializers.py:119: calling RandomUniform.__init__ (from tensorflow.python.ops.init_ops) with dtype is deprecated and will be removed in a future version.\n",
      "Instructions for updating:\n",
      "Call initializer instance with the dtype argument instead of passing it to the constructor\n",
      "WARNING:tensorflow:From C:\\Users\\Ahmad\\Anaconda3\\lib\\site-packages\\tensorflow\\python\\ops\\init_ops.py:1251: calling VarianceScaling.__init__ (from tensorflow.python.ops.init_ops) with dtype is deprecated and will be removed in a future version.\n",
      "Instructions for updating:\n",
      "Call initializer instance with the dtype argument instead of passing it to the constructor\n",
      "WARNING:tensorflow:From C:\\Users\\Ahmad\\Anaconda3\\lib\\site-packages\\tensorflow\\python\\ops\\init_ops.py:97: calling GlorotUniform.__init__ (from tensorflow.python.ops.init_ops) with dtype is deprecated and will be removed in a future version.\n",
      "Instructions for updating:\n",
      "Call initializer instance with the dtype argument instead of passing it to the constructor\n",
      "WARNING:tensorflow:From C:\\Users\\Ahmad\\Anaconda3\\lib\\site-packages\\tensorflow\\python\\ops\\init_ops.py:97: calling Orthogonal.__init__ (from tensorflow.python.ops.init_ops) with dtype is deprecated and will be removed in a future version.\n",
      "Instructions for updating:\n",
      "Call initializer instance with the dtype argument instead of passing it to the constructor\n",
      "WARNING:tensorflow:From C:\\Users\\Ahmad\\Anaconda3\\lib\\site-packages\\tensorflow\\python\\ops\\init_ops.py:97: calling Zeros.__init__ (from tensorflow.python.ops.init_ops) with dtype is deprecated and will be removed in a future version.\n",
      "Instructions for updating:\n",
      "Call initializer instance with the dtype argument instead of passing it to the constructor\n",
      "Model: \"sequential\"\n",
      "_________________________________________________________________\n",
      "Layer (type)                 Output Shape              Param #   \n",
      "=================================================================\n",
      "embedding (Embedding)        (None, None, 64)          320000    \n",
      "_________________________________________________________________\n",
      "dropout (Dropout)            (None, None, 64)          0         \n",
      "_________________________________________________________________\n",
      "bidirectional (Bidirectional (None, 128)               66048     \n",
      "_________________________________________________________________\n",
      "dense (Dense)                (None, 6)                 774       \n",
      "=================================================================\n",
      "Total params: 386,822\n",
      "Trainable params: 386,822\n",
      "Non-trainable params: 0\n",
      "_________________________________________________________________\n",
      "Train on 1668 samples, validate on 557 samples\n",
      "WARNING:tensorflow:From C:\\Users\\Ahmad\\Anaconda3\\lib\\site-packages\\tensorflow\\python\\ops\\math_grad.py:1250: add_dispatch_support.<locals>.wrapper (from tensorflow.python.ops.array_ops) is deprecated and will be removed in a future version.\n",
      "Instructions for updating:\n",
      "Use tf.where in 2.0, which has the same broadcast rule as np.where\n",
      "Epoch 1/10\n",
      "1668/1668 [==============================] - 30s 18ms/sample - loss: 1.6391 - acc: 0.2620 - val_loss: 1.4597 - val_acc: 0.4668\n",
      "Epoch 2/10\n",
      "1668/1668 [==============================] - 31s 18ms/sample - loss: 1.2843 - acc: 0.4293 - val_loss: 0.9585 - val_acc: 0.6176\n",
      "Epoch 3/10\n",
      "1668/1668 [==============================] - 31s 19ms/sample - loss: 0.7502 - acc: 0.7320 - val_loss: 0.5340 - val_acc: 0.8905\n",
      "Epoch 4/10\n",
      "1668/1668 [==============================] - 35s 21ms/sample - loss: 0.3841 - acc: 0.8789 - val_loss: 0.3882 - val_acc: 0.8833\n",
      "Epoch 5/10\n",
      "1668/1668 [==============================] - 32s 19ms/sample - loss: 0.2296 - acc: 0.9484 - val_loss: 0.3888 - val_acc: 0.8851\n",
      "Epoch 6/10\n",
      "1668/1668 [==============================] - 35s 21ms/sample - loss: 0.1220 - acc: 0.9844 - val_loss: 0.2697 - val_acc: 0.9300\n",
      "Epoch 7/10\n",
      "1668/1668 [==============================] - 27s 16ms/sample - loss: 0.0501 - acc: 0.9934 - val_loss: 0.1806 - val_acc: 0.9479\n",
      "Epoch 8/10\n",
      "1668/1668 [==============================] - 28s 17ms/sample - loss: 0.0347 - acc: 0.9958 - val_loss: 0.1663 - val_acc: 0.9659\n",
      "Epoch 9/10\n",
      "1668/1668 [==============================] - 28s 17ms/sample - loss: 0.0278 - acc: 0.9976 - val_loss: 0.1320 - val_acc: 0.9641\n",
      "Epoch 10/10\n",
      "1668/1668 [==============================] - 27s 16ms/sample - loss: 0.0120 - acc: 0.9994 - val_loss: 0.1744 - val_acc: 0.9587\n"
     ]
    }
   ],
   "source": [
    "model = Sequential()\n",
    "model.add(Embedding(vocab_size,64))\n",
    "model.add(Dropout(0.25))\n",
    "model.add(Bidirectional(LSTM(64)))\n",
    "model.add(Dense(6,activation='softmax'))\n",
    "model.summary()\n",
    "\n",
    "opt = tf.keras.optimizers.Adam(lr=0.001,decay = 1e-6)\n",
    "model.compile(loss = 'sparse_categorical_crossentropy',metrics = ['accuracy'],optimizer=opt)\n",
    "history=model.fit(X_train,y_train, epochs=10,validation_data=(X_test, y_test))\n"
   ]
  },
  {
   "cell_type": "code",
   "execution_count": 10,
   "metadata": {},
   "outputs": [
    {
     "data": {
      "image/png": "[encoded data removed]",
      "text/plain": [
       "<Figure size 432x288 with 1 Axes>"
      ]
     },
     "metadata": {
      "needs_background": "light"
     },
     "output_type": "display_data"
    },
    {
     "data": {
      "image/png": "[encoded data removed]",
      "text/plain": [
       "<Figure size 432x288 with 1 Axes>"
      ]
     },
     "metadata": {
      "needs_background": "light"
     },
     "output_type": "display_data"
    }
   ],
   "source": [
    "import matplotlib.pyplot as plt\n",
    "\n",
    "def plot_graphs(history, string):\n",
    "  plt.plot(history.history[string])\n",
    "  plt.plot(history.history['val_'+string])\n",
    "  plt.xlabel(\"Epochs\")\n",
    "  plt.ylabel(string)\n",
    "  plt.legend([string, 'val_'+string])\n",
    "  plt.show()\n",
    "  \n",
    "plot_graphs(history, \"acc\")\n",
    "plot_graphs(history, \"loss\")"
   ]
  },
  {
   "cell_type": "code",
   "execution_count": 28,
   "metadata": {},
   "outputs": [
    {
     "name": "stdout",
     "output_type": "stream",
     "text": [
      "['chelsea clinch cup extra time extra time score mins john arne riise volleyed liverpool ahead seconds steven gerrard scored th minute goal blues boss jose mourinho sent taunting liverpool fans goal watched television side went win game drogba kezman scored close range antonio nunez header made tense finale amazing climax gave mourinho first silverware chelsea manager yet controversial mourinho sending apparently putting finger lips hush liverpool fans hushing extraordinary opening reds took stunning lead inside first minute riise could connected better morientes cross smashed left foot volley past petr cech goal quickest ever league cup final stunned blues side whose previously rock solid confidence shaken consecutive losses newcastle barcelona previous week blues attacking chances limited jerzy dudek equal frank lampard powerfully struck drive drogba low shot despite frustration chelsea began dominate midfield without seriously threatening break liverpool well organised defence joe cole shot blocked promising damien duff break halted good tackle djimi traore reds reached half time without major scares blues began second half urgency pegged liverpool back nevertheless liverpool living dangerously needed fantastic double save dudek minutes first full stretch gudjohnsen header smother william gallas follow despite chelsea possession liverpool fashioned next clear opportunity luis garcia fed dietmar hamann whose shot forced superb save cech blues increasingly adventurous approach saw liverpool earn another chance break minutes paulo ferreira denied gerrard last ditch tackle gerrard scoresheet minutes later unfortunate fashion inadvertently deflected ferrerira free kick past keeper post bring chelsea level prompted mourinho reaction saw sent chelsea still pressed duff chance win game seven minutes remaining dudek saved bravely irishman feet milan baros shot wildly end ensure extra time drogba almost headed chelsea front two minutes extra time striker saw ball rebound post seconds half time interval drogba made mistake picking ball glen johnson long throw inside six yard box sidefooting home kezman appeared made game safe netted close range gudjohnsen cross th minute still drama nunez beat cech high ball six minutes remaining head side level despite liverpool desperate attacks chelsea clung win dudek finnan carragher hyypia traore biscan luis garcia gerrard hamann riise kewell nunez morientes baros subs used pellegrino carson hyypia traore hamann carragher riise nunez cech paulo ferreira ricardo carvalho terry gallas kezman jarosik gudjohnsen lampard makelele cole johnson drogba duff subs used pidgeley tiago lampard kezman drogba duff gerrard og drogba kezman bennett kent']\n",
      "\n",
      "Prediction :  sport\n"
     ]
    }
   ],
   "source": [
    "test_sample = [cleaned_articles[506]]\n",
    "print(test_sample)\n",
    "test_sequence = tk.texts_to_sequences(test_sample)\n",
    "test_sequence = pad_sequences(test_sequence,maxlen = max_length)\n",
    "labels = ['sport', 'bussiness', 'politics', 'tech', 'entertainment'] #orig\n",
    "prediction = model.predict(test_sequence)\n",
    "\n",
    "print(\"\\nPrediction : \",labels[np.argmax(prediction)-1])"
   ]
  },
  {
   "cell_type": "code",
   "execution_count": null,
   "metadata": {},
   "outputs": [],
   "source": []
  }
 ],
 "metadata": {
  "kernelspec": {
   "display_name": "Python 3",
   "language": "python",
   "name": "python3"
  },
  "language_info": {
   "codemirror_mode": {
    "name": "ipython",
    "version": 3
   },
   "file_extension": ".py",
   "mimetype": "text/x-python",
   "name": "python",
   "nbconvert_exporter": "python",
   "pygments_lexer": "ipython3",
   "version": "3.7.3"
  }
 },
 "nbformat": 4,
 "nbformat_minor": 2
}
